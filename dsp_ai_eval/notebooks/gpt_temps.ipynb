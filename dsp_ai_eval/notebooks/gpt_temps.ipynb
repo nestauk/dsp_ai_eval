{
 "cells": [
  {
   "cell_type": "code",
   "execution_count": null,
   "metadata": {},
   "outputs": [],
   "source": [
    "import altair as alt\n",
    "import ast\n",
    "import pandas as pd\n",
    "\n",
    "from dsp_ai_eval import config\n",
    "from dsp_ai_eval.getters.gpt import get_gpt_themes_embeddings, get_representative_docs, get_topics, get_probs, get_topic_model, get_cluster_summaries_cleaned\n",
    "from dsp_ai_eval.utils.clustering_utils import create_df_for_viz\n",
    "\n",
    "SEED = config[\"seed\"]"
   ]
  },
  {
   "cell_type": "code",
   "execution_count": null,
   "metadata": {},
   "outputs": [],
   "source": [
    "def temp_plot(df_vis, gpt_model = 'gpt-3.5-turbo', temps = [0, 0.25, 0.5]):\n",
    "    temp_scale = alt.Scale(domain=[0, 0.25, 0.5, 1],\n",
    "                        range=['#0d0887', '#7e03a8', '#cc4778', '#f0f921'])\n",
    "    \n",
    "    fig = (\n",
    "        alt.Chart(df_vis[(df_vis['gpt_model'] == gpt_model) & df_vis['temperature'].isin(temps)])\n",
    "        .mark_circle(size=200)\n",
    "        .encode(\n",
    "            x='x',\n",
    "            xOffset=\"random:Q\",\n",
    "            y='y',\n",
    "            yOffset=\"random:Q\",\n",
    "            color=alt.Color('temperature', scale=temp_scale\n",
    "                            ),\n",
    "            opacity=alt.value(0.5),\n",
    "            tooltip=['topic_name', 'doc'],\n",
    "        ).transform_calculate(\n",
    "    random=\"random()\"\n",
    ")\n",
    "        .properties(width=800, height=600)\n",
    "        .interactive()\n",
    "    )\n",
    "    \n",
    "    return fig"
   ]
  },
  {
   "cell_type": "code",
   "execution_count": null,
   "metadata": {},
   "outputs": [],
   "source": [
    "answers_long = get_gpt_themes_embeddings()\n",
    "    \n",
    "docs = answers_long['answer_cleaned'].tolist()\n",
    "answers_long['embeddings'] = answers_long['embeddings'].apply(ast.literal_eval)\n",
    "embeddings = answers_long[\"embeddings\"].apply(pd.Series).values\n",
    "    \n",
    "topic_model = get_topic_model()\n",
    "\n",
    "cluster_summaries = get_cluster_summaries_cleaned()\n",
    "\n",
    "topics = get_topics()\n",
    "probs = get_probs()\n",
    "representative_docs = get_representative_docs()\n",
    "\n",
    "df_vis = create_df_for_viz(embeddings, topic_model, topics, docs, seed=SEED)\n",
    "    \n",
    "df_vis = df_vis.merge(cluster_summaries, on='topic', how='left')\n",
    "df_vis = df_vis.merge(answers_long[['answer_cleaned', 'temperature', 'gpt_model', 'heading']], left_index=True, right_index=True)\n",
    "    \n",
    "df_vis[\"topic_name\"].fillna(\"NA\", inplace=True)\n",
    "df_vis[\"heading\"].fillna(\"NA\", inplace=True)"
   ]
  },
  {
   "cell_type": "code",
   "execution_count": null,
   "metadata": {},
   "outputs": [],
   "source": [
    "temp_plot(df_vis, gpt_model = 'gpt-3.5-turbo', temps = [0, 0.25, 0.5, 1])"
   ]
  },
  {
   "cell_type": "code",
   "execution_count": null,
   "metadata": {},
   "outputs": [],
   "source": [
    "temp_plot(df_vis, gpt_model = 'gpt-4', temps = [0, 0.25, 0.5, 1])"
   ]
  }
 ],
 "metadata": {
  "kernelspec": {
   "display_name": "dsp_ai_eval",
   "language": "python",
   "name": "python3"
  },
  "language_info": {
   "codemirror_mode": {
    "name": "ipython",
    "version": 3
   },
   "file_extension": ".py",
   "mimetype": "text/x-python",
   "name": "python",
   "nbconvert_exporter": "python",
   "pygments_lexer": "ipython3",
   "version": "3.10.13"
  }
 },
 "nbformat": 4,
 "nbformat_minor": 2
}
