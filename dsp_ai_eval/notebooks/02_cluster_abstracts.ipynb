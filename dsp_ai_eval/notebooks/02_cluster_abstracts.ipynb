{
 "cells": [
  {
   "cell_type": "code",
   "execution_count": null,
   "metadata": {},
   "outputs": [],
   "source": [
    "import altair as alt\n",
    "from bertopic import BERTopic\n",
    "from bertopic.representation import KeyBERTInspired, MaximalMarginalRelevance, OpenAI, PartOfSpeech\n",
    "from dotenv import load_dotenv\n",
    "from hdbscan import HDBSCAN\n",
    "import json\n",
    "import networkx as nx\n",
    "import numpy as np\n",
    "import openai\n",
    "import os\n",
    "import pandas as pd\n",
    "from pathlib import Path\n",
    "import re\n",
    "from sentence_transformers import SentenceTransformer\n",
    "from sklearn.cluster import KMeans\n",
    "from sklearn.manifold import TSNE\n",
    "from sklearn.feature_extraction.text import CountVectorizer\n",
    "from sklearn.metrics.pairwise import cosine_similarity\n",
    "import spacy\n",
    "from umap import UMAP\n",
    "\n",
    "from nesta_ds_utils.viz.altair import saving as viz_save\n",
    "\n",
    "from dsp_ai_eval import PROJECT_DIR, logging\n",
    "from dsp_ai_eval.utils import text_cleaning as tc\n",
    "from dsp_ai_eval.utils.clustering_utils import create_new_topic_model, create_df_for_viz, get_top_docs_per_topic\n",
    "\n",
    "# Increase the maximum number of rows Altair will process\n",
    "alt.data_transformers.disable_max_rows()\n",
    "\n",
    "embedding_model = SentenceTransformer('all-miniLM-L6-v2')\n",
    "\n",
    "load_dotenv()\n",
    "\n",
    "OPENAI_API_KEY = os.environ.get(\"OPENAI_API_KEY\")"
   ]
  },
  {
   "cell_type": "code",
   "execution_count": null,
   "metadata": {},
   "outputs": [],
   "source": [
    "scite_abstracts = pd.read_parquet(PROJECT_DIR / \"inputs/data/embeddings/scite_embeddings.parquet\")\n",
    "scite_abstracts.head()"
   ]
  },
  {
   "cell_type": "code",
   "execution_count": null,
   "metadata": {},
   "outputs": [],
   "source": [
    "with open(PROJECT_DIR / \"outputs/data/cluster_summaries.json\") as file:\n",
    "    cluster_summaries = json.load(file)\n",
    "    \n",
    "cluster_summaries"
   ]
  },
  {
   "cell_type": "code",
   "execution_count": null,
   "metadata": {},
   "outputs": [],
   "source": [
    "def to_snake_case(s):\n",
    "    # Replace all non-word characters (everything except letters and numbers) with an underscore\n",
    "    s = re.sub(r'\\W+', '_', s)\n",
    "    # Convert to lowercase\n",
    "    s = s.lower()\n",
    "    # Remove leading and trailing underscores\n",
    "    s = s.strip('_')\n",
    "    return s\n",
    "\n",
    "def clean_column_names(df):\n",
    "    \"\"\"\n",
    "    Converts all column names to snake case and strips leading or trailing punctuation.\n",
    "\n",
    "    :param df: pandas DataFrame with any column names\n",
    "    :return: pandas DataFrame with cleaned column names\n",
    "    \"\"\"\n",
    "    new_columns = {col: to_snake_case(col) for col in df.columns}\n",
    "    return df.rename(columns=new_columns)\n",
    "\n",
    "\n",
    "\n",
    "# Convert the nested dictionary into a list of dictionaries\n",
    "data = [v for k, v in cluster_summaries.items()]\n",
    "\n",
    "# Create a DataFrame\n",
    "df = pd.DataFrame(data).reset_index().rename(columns={'index': 'topic'})\n",
    "\n",
    "df = clean_column_names(df)\n",
    "\n",
    "df[['topic', 'name', 'description', 'docs', 'keywords']].to_csv(PROJECT_DIR / \"outputs/data/cluster_summaries_cleaned.csv\", index=False)"
   ]
  },
  {
   "cell_type": "code",
   "execution_count": null,
   "metadata": {},
   "outputs": [],
   "source": [
    "df = pd.DataFrame()\n",
    "\n",
    "for key, value in cluster_summaries.items():\n",
    "    temp_df = pd.DataFrame(value)\n",
    "    temp_df['topic'] = int(key)\n",
    "    pd.concat([df, temp_df])"
   ]
  },
  {
   "cell_type": "code",
   "execution_count": null,
   "metadata": {},
   "outputs": [],
   "source": [
    "cluster_summaries['0']['Name:']"
   ]
  },
  {
   "cell_type": "code",
   "execution_count": null,
   "metadata": {},
   "outputs": [],
   "source": [
    "for cluster, summary in cluster_summaries.items():\n",
    "    print(f\"Cluster {cluster}: {summary['Name:']}\")\n",
    "    print(f\"{summary['Description:']}\")"
   ]
  },
  {
   "cell_type": "code",
   "execution_count": null,
   "metadata": {},
   "outputs": [],
   "source": []
  },
  {
   "cell_type": "code",
   "execution_count": null,
   "metadata": {},
   "outputs": [],
   "source": []
  },
  {
   "cell_type": "code",
   "execution_count": null,
   "metadata": {},
   "outputs": [],
   "source": []
  },
  {
   "cell_type": "code",
   "execution_count": null,
   "metadata": {},
   "outputs": [],
   "source": []
  },
  {
   "cell_type": "code",
   "execution_count": null,
   "metadata": {},
   "outputs": [],
   "source": [
    "scite_abstracts['category'].value_counts()"
   ]
  },
  {
   "cell_type": "code",
   "execution_count": null,
   "metadata": {},
   "outputs": [],
   "source": [
    "scite_abstracts['total_cites'].describe()"
   ]
  },
  {
   "cell_type": "markdown",
   "metadata": {},
   "source": [
    "Following [this best practices guide](https://maartengr.github.io/BERTopic/getting_started/best_practices/best_practices.html)"
   ]
  },
  {
   "cell_type": "code",
   "execution_count": null,
   "metadata": {},
   "outputs": [],
   "source": [
    "docs = scite_abstracts['title_abstract'].to_list()\n",
    "embeddings = scite_abstracts['embeddings'].apply(pd.Series).values"
   ]
  },
  {
   "cell_type": "code",
   "execution_count": null,
   "metadata": {},
   "outputs": [],
   "source": [
    "topic_model = BERTopic.load(PROJECT_DIR / \"outputs/models/bertopic_abstracts_model\", embedding_model=embedding_model)\n",
    "\n",
    "TOPICS_INPATH = PROJECT_DIR / \"outputs/data/bertopic_abstracts_model_topics.pkl\"\n",
    "PROBS_INPATH = PROJECT_DIR / \"outputs/data/bertopic_abstracts_model_probs.npy\"\n",
    "REPRESENTATIVE_DOCS_INPATH = PROJECT_DIR / \"outputs/data/bertopic_abstracts_representative_docs.pkl\"\n",
    "\n",
    "topics = pd.read_pickle(TOPICS_INPATH)\n",
    "probs = np.load(PROBS_INPATH)\n",
    "representative_docs = pd.read_pickle(REPRESENTATIVE_DOCS_INPATH)\n",
    "\n",
    "# Show topics\n",
    "topic_model.get_topic_info()"
   ]
  },
  {
   "cell_type": "code",
   "execution_count": null,
   "metadata": {},
   "outputs": [],
   "source": [
    "representative_docs"
   ]
  },
  {
   "cell_type": "code",
   "execution_count": null,
   "metadata": {},
   "outputs": [],
   "source": [
    "topic_model.visualize_barchart()"
   ]
  },
  {
   "cell_type": "code",
   "execution_count": null,
   "metadata": {},
   "outputs": [],
   "source": [
    "topic_model.visualize_distribution(probs[30])"
   ]
  },
  {
   "cell_type": "code",
   "execution_count": null,
   "metadata": {},
   "outputs": [],
   "source": [
    "scite_abstracts, top_docs_per_topic = get_top_docs_per_topic(scite_abstracts, topics, docs, probs,10)"
   ]
  },
  {
   "cell_type": "code",
   "execution_count": null,
   "metadata": {},
   "outputs": [],
   "source": [
    "top_docs_per_topic[0]"
   ]
  },
  {
   "cell_type": "code",
   "execution_count": null,
   "metadata": {},
   "outputs": [],
   "source": [
    "topic_model.visualize_topics()"
   ]
  },
  {
   "cell_type": "code",
   "execution_count": null,
   "metadata": {},
   "outputs": [],
   "source": [
    "df_vis = create_df_for_viz(embeddings,\n",
    "                      topic_model,\n",
    "                      topics,\n",
    "                      docs,\n",
    "                      seed=42)\n",
    "\n",
    "df_vis.head(20)"
   ]
  },
  {
   "cell_type": "code",
   "execution_count": null,
   "metadata": {},
   "outputs": [],
   "source": [
    "df_vis = df_vis.merge(scite_abstracts, left_on=\"doc\", right_on=\"title_abstract\", how=\"left\")\n",
    "df_vis.head()"
   ]
  },
  {
   "cell_type": "code",
   "execution_count": null,
   "metadata": {},
   "outputs": [],
   "source": [
    "df_vis.columns"
   ]
  },
  {
   "cell_type": "code",
   "execution_count": null,
   "metadata": {},
   "outputs": [],
   "source": [
    "# Define the base chart with common encodings\n",
    "base = alt.Chart(#df_vis[df_vis['x']>5]\n",
    "                 df_vis\n",
    "                 ).encode(\n",
    "    x='x',\n",
    "    y='y',\n",
    "    size=alt.condition(\n",
    "        alt.datum.category == 'main',  # Condition for the 'category' column\n",
    "        alt.value(200),  # If True, size is 50\n",
    "        alt.value(30)  # If False, size is 30\n",
    "    ),\n",
    "    opacity=alt.condition(\n",
    "        alt.datum.category == 'main',  # Condition for the 'topic' column\n",
    "        alt.value(1),\n",
    "        alt.value(0.5)  # If False, opacity is 0.5\n",
    "    ),\n",
    "    tooltip=['Name:N', 'doc:N']\n",
    ")\n",
    "\n",
    "# Chart for 'main' category points\n",
    "main_points = base.transform_filter(\n",
    "    alt.datum.category == 'main'\n",
    ").mark_circle().encode(\n",
    "    color=alt.value('red')  # Color is red for 'main'\n",
    ")\n",
    "\n",
    "# Chart for other points, colored by 'Name'\n",
    "other_points = base.transform_filter(\n",
    "    alt.datum.category != 'main'\n",
    ").mark_circle().encode(\n",
    "    color='Name:N'  # Color mapped by 'Name'\n",
    ")\n",
    "\n",
    "# Combine the charts\n",
    "plot = (main_points + other_points).properties(\n",
    "    width=800,\n",
    "    height=600,\n",
    ").interactive()\n",
    "\n",
    "\n",
    "plot.save(PROJECT_DIR / 'outputs/figures/scite_abstracts.html')\n",
    "# plot.save(PROJECT_DIR / 'outputs/figures/scite_abstracts.png')\n",
    "viz_save.save(plot, 'scite_abstracts', PROJECT_DIR / 'outputs/figures', save_png=True)\n",
    "\n",
    "plot.display()"
   ]
  },
  {
   "cell_type": "code",
   "execution_count": null,
   "metadata": {},
   "outputs": [],
   "source": [
    "# Define the base chart with common encodings\n",
    "base = alt.Chart(#df_vis[df_vis['x']>5]\n",
    "                 df_vis\n",
    "                 ).transform_calculate(\n",
    "    # Create a new field for size, multiplying 'total_cites' by 10\n",
    "    size_calculated='datum.total_cites * 10'#'log(datum.total_cites + 1)'#'datum.total_cites * 10'\n",
    ").encode(\n",
    "    x='x',\n",
    "    y='y',\n",
    "    size=alt.Size('size_calculated:Q', scale=alt.Scale(range=[0, 2000])),  # Use the calculated field for size\n",
    "    opacity=alt.condition(\n",
    "        alt.datum.category == 'main',  # Condition for the 'topic' column\n",
    "        alt.value(1),\n",
    "        alt.value(0.5)  # If False, opacity is 0.5\n",
    "    ),\n",
    "    tooltip=['Name:N', 'doc:N', 'total_cites:N']\n",
    ")\n",
    "\n",
    "# Chart for 'main' category points\n",
    "main_points = base.transform_filter(\n",
    "    alt.datum.category == 'main'\n",
    ").mark_circle().encode(\n",
    "    color=alt.value('red')  # Color is red for 'main'\n",
    ")\n",
    "\n",
    "# Chart for other points, colored by 'Name'\n",
    "other_points = base.transform_filter(\n",
    "    alt.datum.category != 'main'\n",
    ").mark_circle().encode(\n",
    "    color='Name:N'  # Color mapped by 'Name'\n",
    ")\n",
    "\n",
    "# Combine the charts\n",
    "plot = (main_points + other_points).properties(\n",
    "    width=800,\n",
    "    height=600,\n",
    ").interactive()\n",
    "\n",
    "\n",
    "plot.save(PROJECT_DIR / 'outputs/figures/scite_abstracts.html')\n",
    "# plot.save(PROJECT_DIR / 'outputs/figures/scite_abstracts.png')\n",
    "viz_save.save(plot, 'scite_abstracts', PROJECT_DIR / 'outputs/figures', save_png=True)\n",
    "\n",
    "plot.display()"
   ]
  },
  {
   "cell_type": "code",
   "execution_count": null,
   "metadata": {},
   "outputs": [],
   "source": [
    "# Create the plot\n",
    "plot = alt.Chart(df_vis[(df_vis['topic']!=-1)] # get rid of outliers\n",
    "                 ).mark_circle(size=30, opacity=0.5).encode(\n",
    "    x='x',\n",
    "    y='y',\n",
    "    color='Name:N',\n",
    "    tooltip=['Name:N','doc:N']\n",
    ").properties(\n",
    "    width=800,\n",
    "    height=600,\n",
    ").interactive()\n",
    "\n",
    "# plot.save(PROJECT_DIR / 'outputs/figures/scite_abstracts.png')\n",
    "viz_save.save(plot, 'scite_abstracts_filtered', PROJECT_DIR / 'outputs/figures', save_png=True)\n",
    "\n",
    "plot.display()"
   ]
  },
  {
   "cell_type": "code",
   "execution_count": null,
   "metadata": {},
   "outputs": [],
   "source": []
  },
  {
   "cell_type": "code",
   "execution_count": null,
   "metadata": {},
   "outputs": [],
   "source": []
  },
  {
   "cell_type": "code",
   "execution_count": null,
   "metadata": {},
   "outputs": [],
   "source": []
  },
  {
   "cell_type": "code",
   "execution_count": null,
   "metadata": {},
   "outputs": [],
   "source": []
  }
 ],
 "metadata": {
  "kernelspec": {
   "display_name": "dsp_ai_eval",
   "language": "python",
   "name": "python3"
  },
  "language_info": {
   "codemirror_mode": {
    "name": "ipython",
    "version": 3
   },
   "file_extension": ".py",
   "mimetype": "text/x-python",
   "name": "python",
   "nbconvert_exporter": "python",
   "pygments_lexer": "ipython3",
   "version": "3.10.13"
  }
 },
 "nbformat": 4,
 "nbformat_minor": 2
}
