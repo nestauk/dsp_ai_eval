{
 "cells": [
  {
   "cell_type": "code",
   "execution_count": null,
   "metadata": {},
   "outputs": [],
   "source": [
    "import altair as alt\n",
    "from bertopic import BERTopic\n",
    "from bertopic.representation import KeyBERTInspired, MaximalMarginalRelevance, OpenAI, PartOfSpeech\n",
    "from dotenv import load_dotenv\n",
    "from hdbscan import HDBSCAN\n",
    "import networkx as nx\n",
    "import numpy as np\n",
    "import openai\n",
    "import os\n",
    "import pandas as pd\n",
    "from pathlib import Path\n",
    "import re\n",
    "from sentence_transformers import SentenceTransformer\n",
    "from sklearn.cluster import KMeans\n",
    "from sklearn.manifold import TSNE\n",
    "from sklearn.feature_extraction.text import CountVectorizer\n",
    "from sklearn.metrics.pairwise import cosine_similarity\n",
    "import spacy\n",
    "from umap import UMAP\n",
    "\n",
    "from nesta_ds_utils.viz.altair import saving as viz_save\n",
    "\n",
    "from dsp_ai_eval import PROJECT_DIR, logging\n",
    "from dsp_ai_eval.utils import text_cleaning as tc\n",
    "from dsp_ai_eval.utils.clustering_utils import create_new_topic_model, create_df_for_viz\n",
    "\n",
    "# Increase the maximum number of rows Altair will process\n",
    "alt.data_transformers.disable_max_rows()\n",
    "\n",
    "embedding_model = SentenceTransformer('all-miniLM-L6-v2')\n",
    "\n",
    "load_dotenv()\n",
    "\n",
    "OPENAI_API_KEY = os.environ.get(\"OPENAI_API_KEY\")"
   ]
  },
  {
   "cell_type": "code",
   "execution_count": null,
   "metadata": {},
   "outputs": [],
   "source": [
    "SCITE_SUMMARY = PROJECT_DIR / 'inputs/data/scite/scite_summary.txt'\n",
    "\n",
    "scite_abstracts = pd.read_parquet(PROJECT_DIR / \"inputs/data/embeddings/scite_embeddings.parquet\")\n",
    "scite_abstracts.head()"
   ]
  },
  {
   "cell_type": "code",
   "execution_count": null,
   "metadata": {},
   "outputs": [],
   "source": [
    "docs = scite_abstracts['title_abstract'].to_list()\n",
    "logging.info(len(docs))"
   ]
  },
  {
   "cell_type": "markdown",
   "metadata": {},
   "source": [
    "Following [this best practices guide](https://maartengr.github.io/BERTopic/getting_started/best_practices/best_practices.html)"
   ]
  },
  {
   "cell_type": "code",
   "execution_count": null,
   "metadata": {},
   "outputs": [],
   "source": [
    "embeddings = scite_abstracts['embeddings'].apply(pd.Series).values"
   ]
  },
  {
   "cell_type": "code",
   "execution_count": null,
   "metadata": {},
   "outputs": [],
   "source": [
    "topic_model = create_new_topic_model(hdbscan_min_cluster_size = 150, tfidf_min_df=10, tfidf_max_df=1.0, tfidf_ngram_range=(1, 3), seed=42)"
   ]
  },
  {
   "cell_type": "code",
   "execution_count": null,
   "metadata": {},
   "outputs": [],
   "source": [
    "# Train model\n",
    "topics, probs = topic_model.fit_transform(docs, embeddings)\n",
    "\n",
    "# Show topics\n",
    "topic_model.get_topic_info()"
   ]
  },
  {
   "cell_type": "code",
   "execution_count": null,
   "metadata": {},
   "outputs": [],
   "source": [
    "topic_lookup = topic_model.get_topic_info()[['Topic', 'Name']]"
   ]
  },
  {
   "cell_type": "code",
   "execution_count": null,
   "metadata": {},
   "outputs": [],
   "source": [
    "topic_model.visualize_barchart(topics=[-1, 0, 1, 2, 3, 4, 5, 6, 7, 8, 9])"
   ]
  },
  {
   "cell_type": "code",
   "execution_count": null,
   "metadata": {},
   "outputs": [],
   "source": [
    "representative_docs = topic_model.get_representative_docs()\n",
    "representative_docs"
   ]
  },
  {
   "cell_type": "code",
   "execution_count": null,
   "metadata": {},
   "outputs": [],
   "source": [
    "topic_model.visualize_topics()"
   ]
  },
  {
   "cell_type": "code",
   "execution_count": null,
   "metadata": {},
   "outputs": [],
   "source": [
    "df_vis = create_df_for_viz(embeddings,\n",
    "                      topic_model,\n",
    "                      topics,\n",
    "                      docs,\n",
    "                      seed=42)\n",
    "\n",
    "df_vis.head()"
   ]
  },
  {
   "cell_type": "code",
   "execution_count": null,
   "metadata": {},
   "outputs": [],
   "source": [
    "# Define the base chart with common encodings\n",
    "base = alt.Chart(df_vis[df_vis['x']>5]).encode(\n",
    "    x='x',\n",
    "    y='y',\n",
    "    size=alt.condition(\n",
    "        alt.datum.category == 'main',  # Condition for the 'category' column\n",
    "        alt.value(200),  # If True, size is 50\n",
    "        alt.value(30)  # If False, size is 30\n",
    "    ),\n",
    "    opacity=alt.condition(\n",
    "        alt.datum.category == 'main',  # Condition for the 'topic' column\n",
    "        alt.value(1),  # If True, opacity is 0.2\n",
    "        alt.value(0.2)  # If False, opacity is 0.5\n",
    "    ),\n",
    "    tooltip=['Name:N', 'title_abstract:N']\n",
    ")\n",
    "\n",
    "# Chart for 'main' category points\n",
    "main_points = base.transform_filter(\n",
    "    alt.datum.category == 'main'\n",
    ").mark_circle().encode(\n",
    "    color=alt.value('red')  # Color is red for 'main'\n",
    ")\n",
    "\n",
    "# Chart for other points, colored by 'Name'\n",
    "other_points = base.transform_filter(\n",
    "    alt.datum.category != 'main'\n",
    ").mark_circle().encode(\n",
    "    color='Name:N'  # Color mapped by 'Name'\n",
    ")\n",
    "\n",
    "# Combine the charts\n",
    "plot = (main_points + other_points).properties(\n",
    "    width=800,\n",
    "    height=600,\n",
    ").interactive()\n",
    "\n",
    "\n",
    "plot.save(PROJECT_DIR / 'outputs/figures/scite_abstracts.html')\n",
    "# plot.save(PROJECT_DIR / 'outputs/figures/scite_abstracts.png')\n",
    "viz_save.save(plot, 'scite_abstracts', PROJECT_DIR / 'outputs/figures', save_png=True)\n",
    "\n",
    "plot.display()"
   ]
  },
  {
   "cell_type": "code",
   "execution_count": null,
   "metadata": {},
   "outputs": [],
   "source": [
    "# Create the plot\n",
    "plot = alt.Chart(df_vis[(df_vis['x']>5) & (df_vis['topic']!=-1)] # get rid of outliers\n",
    "                 ).mark_circle(size=30, opacity=0.25).encode(\n",
    "    x='x',\n",
    "    y='y',\n",
    "    color='Name:N',\n",
    "    tooltip=['Name:N','title_abstract:N']\n",
    ").properties(\n",
    "    width=800,\n",
    "    height=600,\n",
    ").interactive()\n",
    "\n",
    "# plot.save(PROJECT_DIR / 'outputs/figures/scite_abstracts.png')\n",
    "viz_save.save(plot, 'scite_abstracts_filtered', PROJECT_DIR / 'outputs/figures', save_png=True)\n",
    "\n",
    "plot.display()"
   ]
  },
  {
   "cell_type": "code",
   "execution_count": null,
   "metadata": {},
   "outputs": [],
   "source": [
    "noise_cluster = df_vis[df_vis['topic']==-1]\n",
    "noise_cluster = noise_cluster.drop(columns=['topic', 'Topic', 'Name', 'x', 'y'])\n",
    "noise_cluster.head()"
   ]
  },
  {
   "cell_type": "code",
   "execution_count": null,
   "metadata": {},
   "outputs": [],
   "source": [
    "central_embeddings = noise_cluster['embeddings'].apply(pd.Series).values\n",
    "central_docs = noise_cluster['title_abstract'].to_list()"
   ]
  },
  {
   "cell_type": "code",
   "execution_count": null,
   "metadata": {},
   "outputs": [],
   "source": [
    "new_topic_model = create_new_topic_model(hdbscan_min_cluster_size=50,\n",
    "                           tfidf_min_df = 10,\n",
    "                           tfidf_max_df = 1.0,\n",
    "                           tfidf_ngram_range = (1, 3),\n",
    "                           gpt_model = \"gpt-3.5-turbo\",\n",
    "                           openai_api_key = OPENAI_API_KEY,\n",
    "                           seed=42)\n",
    "\n",
    "# Train model\n",
    "new_topics, new_probs = new_topic_model.fit_transform(central_docs, central_embeddings)\n",
    "\n",
    "# Show topics\n",
    "new_topic_model.get_topic_info()"
   ]
  },
  {
   "cell_type": "code",
   "execution_count": null,
   "metadata": {},
   "outputs": [],
   "source": [
    "new_topic_lookup = new_topic_model.get_topic_info()[['Topic', 'Name']]"
   ]
  },
  {
   "cell_type": "code",
   "execution_count": null,
   "metadata": {},
   "outputs": [],
   "source": [
    "df_vis_new = create_df_for_viz(central_embeddings,\n",
    "                      new_topic_model,\n",
    "                      new_topics,\n",
    "                      central_docs,\n",
    "                      seed=42)\n",
    "\n",
    "df_vis_new = df_vis_new.merge(noise_cluster, left_index=True, right_index=True)"
   ]
  },
  {
   "cell_type": "code",
   "execution_count": null,
   "metadata": {},
   "outputs": [],
   "source": [
    "new_representative_docs = new_topic_model.get_representative_docs()\n",
    "new_representative_docs"
   ]
  },
  {
   "cell_type": "code",
   "execution_count": null,
   "metadata": {},
   "outputs": [],
   "source": [
    "noise_cluster[noise_cluster['category']=='main']"
   ]
  },
  {
   "cell_type": "code",
   "execution_count": null,
   "metadata": {},
   "outputs": [],
   "source": [
    "# Filter the DataFrame to exclude outliers\n",
    "filtered_df = df_vis_new[df_vis_new['x'] > 5]\n",
    "\n",
    "# Define the base chart with common encodings\n",
    "base = alt.Chart(filtered_df).encode(\n",
    "    x='x',\n",
    "    y='y',\n",
    "    size=alt.condition(\n",
    "        alt.datum.category == 'main',  # Condition for the 'category' column\n",
    "        alt.value(200),  # If True, size is 50\n",
    "        alt.value(30)  # If False, size is 30\n",
    "    ),\n",
    "    opacity=alt.condition(\n",
    "        alt.datum.category == 'main',  # Condition for the 'topic' column\n",
    "        alt.value(0.75),  # If True, opacity is 0.2\n",
    "        alt.value(0.25)  # If False, opacity is 0.5\n",
    "    ),\n",
    "    tooltip=['Name:N', 'title_abstract:N']\n",
    ")\n",
    "\n",
    "# Chart for 'main' category points\n",
    "main_points = base.transform_filter(\n",
    "    alt.datum.category == 'main'\n",
    ").mark_circle().encode(\n",
    "    color=alt.value('red')  # Color is red for 'main'\n",
    ")\n",
    "\n",
    "# Chart for other points, colored by 'Name'\n",
    "other_points = base.transform_filter(\n",
    "    alt.datum.category != 'main'\n",
    ").mark_circle().encode(\n",
    "    color='Name:N'  # Color mapped by 'Name'\n",
    ")\n",
    "\n",
    "# Combine the charts\n",
    "new_plot = (main_points + other_points).properties(\n",
    "    width=800,\n",
    "    height=600,\n",
    ").interactive()\n",
    "\n",
    "new_plot.save(PROJECT_DIR / 'outputs/figures/scite_abstracts_noise_cluster.html')\n",
    "# plot.save(PROJECT_DIR / 'outputs/figures/scite_abstracts.png')\n",
    "viz_save.save(new_plot, 'scite_abstracts_noise_cluster', PROJECT_DIR / 'outputs/figures', save_png=True)\n",
    "\n",
    "new_plot.display()"
   ]
  },
  {
   "cell_type": "code",
   "execution_count": null,
   "metadata": {},
   "outputs": [],
   "source": []
  },
  {
   "cell_type": "code",
   "execution_count": null,
   "metadata": {},
   "outputs": [],
   "source": []
  },
  {
   "cell_type": "code",
   "execution_count": null,
   "metadata": {},
   "outputs": [],
   "source": []
  },
  {
   "cell_type": "code",
   "execution_count": null,
   "metadata": {},
   "outputs": [],
   "source": []
  }
 ],
 "metadata": {
  "kernelspec": {
   "display_name": "dsp_ai_eval",
   "language": "python",
   "name": "python3"
  },
  "language_info": {
   "codemirror_mode": {
    "name": "ipython",
    "version": 3
   },
   "file_extension": ".py",
   "mimetype": "text/x-python",
   "name": "python",
   "nbconvert_exporter": "python",
   "pygments_lexer": "ipython3",
   "version": "3.10.13"
  }
 },
 "nbformat": 4,
 "nbformat_minor": 2
}
