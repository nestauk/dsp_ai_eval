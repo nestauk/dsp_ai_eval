{
 "cells": [
  {
   "cell_type": "code",
   "execution_count": null,
   "metadata": {},
   "outputs": [],
   "source": [
    "import altair as alt\n",
    "import matplotlib.pyplot as plt\n",
    "import pandas as pd\n",
    "from sentence_transformers import SentenceTransformer\n",
    "\n",
    "from nesta_ds_utils.viz.altair import saving as viz_save\n",
    "\n",
    "from dsp_ai_eval import PROJECT_DIR, config\n",
    "from dsp_ai_eval.getters.gpt import get_gpt_themes_embeddings\n",
    "\n",
    "model = SentenceTransformer(config['embedding_model'])\n",
    "\n",
    "SEED = config[\"seed\"]\n",
    "\n",
    "pd.set_option('display.width', 1000)"
   ]
  },
  {
   "cell_type": "code",
   "execution_count": null,
   "metadata": {},
   "outputs": [],
   "source": [
    "answers_long = get_gpt_themes_embeddings()"
   ]
  },
  {
   "cell_type": "code",
   "execution_count": null,
   "metadata": {},
   "outputs": [],
   "source": [
    "# Aggregate the data to count the occurrences of each heading under each temperature, under each gpt_model\n",
    "agg_df = answers_long.groupby(['gpt_model', 'temperature', 'heading']).size().reset_index(name='counts')\n",
    "\n",
    "# Sorting the DataFrame by counts in descending order to get top headings\n",
    "agg_df = agg_df.sort_values(['gpt_model', 'temperature', 'counts'], ascending=[True, True, False])\n",
    "\n",
    "top_5_per_group = agg_df.groupby(['gpt_model', 'temperature']).head(5)\n",
    "\n",
    "n_headings = agg_df.groupby(['gpt_model', 'temperature']).agg('size').reset_index(name='count')\n",
    "\n",
    "chart = alt.Chart(n_headings).mark_bar().encode(\n",
    "    x='temperature:N',  # Treat gpt_model as a nominal categorical variable\n",
    "    y='count:Q',      # Quantitative scale for count\n",
    "    color='temperature:N',  # Color bars by temperature, treated as a nominal categorical variable\n",
    "    column='gpt_model:N'  # Separate charts for each temperature value for clarity\n",
    ").properties(\n",
    "    width=400,  # Adjust the width of each chart\n",
    "    height=400  # Adjust the height of the chart\n",
    ")\n",
    "\n",
    "chart.save(PROJECT_DIR / f\"outputs/figures/gpt_n_headings.html\")\n",
    "viz_save.save(chart, f\"gpt_n_headings\", PROJECT_DIR / \"outputs/figures\", save_png=True)\n",
    "\n",
    "chart.display()"
   ]
  },
  {
   "cell_type": "code",
   "execution_count": null,
   "metadata": {},
   "outputs": [],
   "source": [
    "# We create a new column to serve as the x-axis labels, combining 'heading' with 'gpt_model' and 'temperature'.\n",
    "top_5_per_group['label'] = top_5_per_group.apply(lambda x: f\"{x['heading']}, ({x['gpt_model']}, {x['temperature']})\", axis=1)\n",
    "\n",
    "# Creating the Altair chart\n",
    "chart = alt.Chart(top_5_per_group).mark_bar().encode(\n",
    "    x='counts:Q',  # Quantitative scale for counts\n",
    "    y=alt.Y('heading:N'),  # Nominal scale for labels, sorted by counts\n",
    "    #color=alt.Color('gpt_model:N', legend=alt.Legend(title='GPT Model')),  # Differentiate by GPT model\n",
    "    color='temperature:N',  # Color bars by temperature, treated as a nominal categorical variable\n",
    "    column='gpt_model:N', # Separate charts for each temperature value for clarity\n",
    "    tooltip=['heading', 'gpt_model', 'temperature', 'counts']  # Show these details when hovering over a bar\n",
    ").properties(\n",
    "    width=250,\n",
    "    height=500,\n",
    "    title='Top Headings by GPT Model and Temperature'\n",
    ")\n",
    "\n",
    "chart.save(PROJECT_DIR / f\"outputs/figures/gpt_frequent_headings.html\")\n",
    "viz_save.save(chart, f\"gpt_frequent_headings\", PROJECT_DIR / \"outputs/figures\", save_png=True)\n",
    "\n",
    "chart.display()"
   ]
  },
  {
   "cell_type": "code",
   "execution_count": null,
   "metadata": {},
   "outputs": [],
   "source": [
    "# A matplotlib version showing the same info as above\n",
    "fig, ax = plt.subplots(figsize=(10, 8))\n",
    "for (gpt_model, temperature), group in top_5_per_group.groupby(['gpt_model', 'temperature']):\n",
    "    ax.barh(group['heading'] + f\" ({gpt_model}, {temperature})\", group['counts'], label=f'{gpt_model}, {temperature}')\n",
    "\n",
    "ax.set_xlabel('Counts')\n",
    "ax.set_title('Top Headings by GPT Model and Temperature')\n",
    "plt.legend()\n",
    "plt.show()\n",
    "\n",
    "fig.savefig(PROJECT_DIR / 'outputs/figures/plt_headings.png', dpi=300)"
   ]
  },
  {
   "cell_type": "code",
   "execution_count": null,
   "metadata": {},
   "outputs": [],
   "source": []
  }
 ],
 "metadata": {
  "kernelspec": {
   "display_name": "ai_eval",
   "language": "python",
   "name": "python3"
  },
  "language_info": {
   "codemirror_mode": {
    "name": "ipython",
    "version": 3
   },
   "file_extension": ".py",
   "mimetype": "text/x-python",
   "name": "python",
   "nbconvert_exporter": "python",
   "pygments_lexer": "ipython3",
   "version": "3.10.13"
  }
 },
 "nbformat": 4,
 "nbformat_minor": 2
}
