{
 "cells": [
  {
   "cell_type": "code",
   "execution_count": null,
   "metadata": {},
   "outputs": [],
   "source": [
    "import altair as alt\n",
    "from bertopic import BERTopic\n",
    "from bertopic.representation import KeyBERTInspired, MaximalMarginalRelevance, OpenAI, PartOfSpeech\n",
    "from collections import defaultdict, Counter\n",
    "from dotenv import load_dotenv\n",
    "from hdbscan import HDBSCAN\n",
    "import matplotlib.pyplot as plt\n",
    "import networkx as nx\n",
    "import numpy as np\n",
    "import openai\n",
    "import os\n",
    "import pandas as pd\n",
    "from pathlib import Path\n",
    "from sentence_transformers import SentenceTransformer\n",
    "from sklearn.cluster import KMeans\n",
    "from sklearn.manifold import TSNE\n",
    "from sklearn.feature_extraction.text import CountVectorizer\n",
    "from sklearn.metrics.pairwise import cosine_similarity\n",
    "import spacy\n",
    "from umap import UMAP\n",
    "\n",
    "from nesta_ds_utils.viz.altair import saving as viz_save\n",
    "\n",
    "from dsp_ai_eval import PROJECT_DIR, logging\n",
    "from dsp_ai_eval.utils import utils\n",
    "from dsp_ai_eval.utils.gpt_summary_utils import extract_conclusion, extract_theme_headings\n",
    "from dsp_ai_eval.utils.clustering_utils import create_new_topic_model, create_df_for_viz\n",
    "\n",
    "model = SentenceTransformer('all-miniLM-L6-v2')\n",
    "\n",
    "pd.set_option('display.width', 1000)\n",
    "\n",
    "load_dotenv()\n",
    "\n",
    "OPENAI_API_KEY = os.environ.get(\"OPENAI_API_KEY\")"
   ]
  },
  {
   "cell_type": "code",
   "execution_count": null,
   "metadata": {},
   "outputs": [],
   "source": [
    "answers_data = utils.load_jsonl(PROJECT_DIR / 'inputs/data/gpt/gpt_themes_repeats.jsonl')\n",
    "answers_data[0]"
   ]
  },
  {
   "cell_type": "code",
   "execution_count": null,
   "metadata": {},
   "outputs": [],
   "source": [
    "answers = [' '.join(a['answer']) for a in answers_data if a['temperature']==0.5]"
   ]
  },
  {
   "cell_type": "code",
   "execution_count": null,
   "metadata": {},
   "outputs": [],
   "source": [
    "len(answers_data) - len(answers)"
   ]
  },
  {
   "cell_type": "code",
   "execution_count": null,
   "metadata": {},
   "outputs": [],
   "source": [
    "# Initialize a dictionary to hold counters for each temperature\n",
    "headings_by_temperature = defaultdict(Counter)\n",
    "\n",
    "for item in answers_data:\n",
    "    headings = extract_theme_headings(item['answer'])\n",
    "    # Group the headings by the item's temperature\n",
    "    temp = item['temperature']\n",
    "    headings_by_temperature[temp].update(headings)\n",
    "\n",
    "# Display the count of each unique theme heading, organized by temperature\n",
    "for temp, headings_counter in headings_by_temperature.items():\n",
    "    print(f'Temperature: {temp}')\n",
    "    for heading, count in headings_counter.items():\n",
    "        print(f'  \"{heading}\": {count}')\n",
    "    print()  # Blank line for better readability"
   ]
  },
  {
   "cell_type": "code",
   "execution_count": null,
   "metadata": {},
   "outputs": [],
   "source": [
    "embeddings = model.encode(answers, show_progress_bar=True)"
   ]
  },
  {
   "cell_type": "code",
   "execution_count": null,
   "metadata": {},
   "outputs": [],
   "source": [
    "topic_model = create_new_topic_model()"
   ]
  },
  {
   "cell_type": "code",
   "execution_count": null,
   "metadata": {},
   "outputs": [],
   "source": [
    "# Train model\n",
    "topics, probs = topic_model.fit_transform(answers, embeddings)\n",
    "\n",
    "# Show topics\n",
    "topic_model.get_topic_info()"
   ]
  },
  {
   "cell_type": "code",
   "execution_count": null,
   "metadata": {},
   "outputs": [],
   "source": [
    "topic_model.visualize_barchart()"
   ]
  },
  {
   "cell_type": "code",
   "execution_count": null,
   "metadata": {},
   "outputs": [],
   "source": [
    "topic_model.visualize_topics()"
   ]
  },
  {
   "cell_type": "code",
   "execution_count": null,
   "metadata": {},
   "outputs": [],
   "source": [
    "df_vis = create_df_for_viz(embeddings,\n",
    "                      topic_model,\n",
    "                      topics,\n",
    "                      answers,\n",
    "                      seed=42)"
   ]
  },
  {
   "cell_type": "code",
   "execution_count": null,
   "metadata": {},
   "outputs": [],
   "source": [
    "# Create the plot\n",
    "plot = alt.Chart(df_vis\n",
    "                 ).mark_circle(size=30, opacity=0.75).encode(\n",
    "    x='x',\n",
    "    y='y',\n",
    "    color='Name:N',\n",
    "    tooltip=['Name:N','doc:N']\n",
    ").properties(\n",
    "    width=800,\n",
    "    height=600,\n",
    ").interactive()\n",
    "\n",
    "plot.save(PROJECT_DIR / 'outputs/figures/gpt_temp5_themes.html')\n",
    "# plot.save(PROJECT_DIR / 'outputs/figures/scite_abstracts.png')\n",
    "viz_save.save(plot, 'gpt_temp5_themes', PROJECT_DIR / 'outputs/figures', save_png=True)\n",
    "\n",
    "plot.display()"
   ]
  },
  {
   "cell_type": "code",
   "execution_count": null,
   "metadata": {},
   "outputs": [],
   "source": [
    "representative_docs = topic_model.get_representative_docs()"
   ]
  },
  {
   "cell_type": "code",
   "execution_count": null,
   "metadata": {},
   "outputs": [],
   "source": [
    "for key in representative_docs.keys():\n",
    "    logging.info(f\"{key}\")\n",
    "    for x in representative_docs[key]:\n",
    "        logging.info(f\"  {x}\")"
   ]
  },
  {
   "cell_type": "code",
   "execution_count": null,
   "metadata": {},
   "outputs": [],
   "source": [
    "for k in representative_docs.keys():\n",
    "    docs = representative_docs[k]\n",
    "    all_headings = []\n",
    "    headings = [extract_theme_headings(doc) for doc in docs]\n",
    "    for h in headings:\n",
    "        all_headings.extend(h)\n",
    "    all_headings = [h.lower() for h in all_headings]\n",
    "    print(f\"{k}: {sorted(list(set(all_headings)))}\")"
   ]
  },
  {
   "cell_type": "code",
   "execution_count": null,
   "metadata": {},
   "outputs": [],
   "source": [
    "headings = [extract_theme_headings(h) for h in answers]\n",
    "\n",
    "headings\n"
   ]
  },
  {
   "cell_type": "code",
   "execution_count": null,
   "metadata": {},
   "outputs": [],
   "source": [
    "df_vis['headings'] = headings"
   ]
  },
  {
   "cell_type": "code",
   "execution_count": null,
   "metadata": {},
   "outputs": [],
   "source": [
    "df_long = df_vis.explode('headings')"
   ]
  },
  {
   "cell_type": "code",
   "execution_count": null,
   "metadata": {},
   "outputs": [],
   "source": [
    "counts = pd.DataFrame(df_long.groupby(['topic', 'headings']).size(), columns=['size']).reset_index()"
   ]
  },
  {
   "cell_type": "code",
   "execution_count": null,
   "metadata": {},
   "outputs": [],
   "source": [
    "# Sort the DataFrame by 'topic' and 'size' in descending order\n",
    "sorted_counts = counts.sort_values(by=['topic', 'size'], ascending=[True, False]).reset_index(drop=True)\n",
    "sorted_counts.head()"
   ]
  },
  {
   "cell_type": "code",
   "execution_count": null,
   "metadata": {},
   "outputs": [],
   "source": [
    "sorted_counts = sorted_counts[sorted_counts['size'] > 2]"
   ]
  },
  {
   "cell_type": "code",
   "execution_count": null,
   "metadata": {},
   "outputs": [],
   "source": [
    "sorted_counts.to_csv(\"sorted_counts.csv\")"
   ]
  },
  {
   "cell_type": "code",
   "execution_count": null,
   "metadata": {},
   "outputs": [],
   "source": [
    "# Assuming 'df_long' is your original DataFrame\n",
    "# Group by 'topic' and aggregate unique 'headings' for each 'topic'\n",
    "unique_headings_per_topic = df_long.groupby('topic')['headings'].unique()\n",
    "\n",
    "# Convert the series to a DataFrame for easier manipulation\n",
    "unique_headings_df = unique_headings_per_topic.reset_index()\n",
    "\n",
    "# Determine the headings unique to each topic\n",
    "def find_unique_headings(row, all_headings):\n",
    "    # Convert the current topic's headings to a set\n",
    "    current_headings = set(row['headings'])\n",
    "    # Convert all other headings to sets and then get the union\n",
    "    other_headings = set().union(*[set(headings) for topic, headings in all_headings.items() if topic != row['topic']])\n",
    "    # Unique headings are those in current but not in others\n",
    "    return list(current_headings - other_headings)\n",
    "\n",
    "# Assuming 'unique_headings_df' and 'unique_headings_per_topic' have been defined as before\n",
    "# Apply the updated function\n",
    "unique_headings_df['unique_headings'] = unique_headings_df.apply(find_unique_headings, axis=1, args=(unique_headings_per_topic.to_dict(),))"
   ]
  },
  {
   "cell_type": "code",
   "execution_count": null,
   "metadata": {},
   "outputs": [],
   "source": [
    "unique_headings_df.to_csv(\"unique_headings.csv\")"
   ]
  },
  {
   "cell_type": "code",
   "execution_count": null,
   "metadata": {},
   "outputs": [],
   "source": [
    "df_long['headings'].value_counts()"
   ]
  },
  {
   "cell_type": "code",
   "execution_count": null,
   "metadata": {},
   "outputs": [],
   "source": []
  }
 ],
 "metadata": {
  "kernelspec": {
   "display_name": "ai_eval",
   "language": "python",
   "name": "python3"
  },
  "language_info": {
   "codemirror_mode": {
    "name": "ipython",
    "version": 3
   },
   "file_extension": ".py",
   "mimetype": "text/x-python",
   "name": "python",
   "nbconvert_exporter": "python",
   "pygments_lexer": "ipython3",
   "version": "3.10.13"
  }
 },
 "nbformat": 4,
 "nbformat_minor": 2
}
